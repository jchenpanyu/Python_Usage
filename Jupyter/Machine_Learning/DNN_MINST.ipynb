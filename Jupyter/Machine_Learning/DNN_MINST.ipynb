{
 "cells": [
  {
   "cell_type": "markdown",
   "metadata": {},
   "source": [
    "Demo用Deep Neural Network对MINST实现Classification"
   ]
  },
  {
   "cell_type": "code",
   "execution_count": 2,
   "metadata": {},
   "outputs": [
    {
     "name": "stdout",
     "output_type": "stream",
     "text": [
      "Extracting D:\\Document\\05_Python\\Jupyter\\dataset\\MNIST\\train-images-idx3-ubyte.gz\n",
      "Extracting D:\\Document\\05_Python\\Jupyter\\dataset\\MNIST\\train-labels-idx1-ubyte.gz\n",
      "Extracting D:\\Document\\05_Python\\Jupyter\\dataset\\MNIST\\t10k-images-idx3-ubyte.gz\n",
      "Extracting D:\\Document\\05_Python\\Jupyter\\dataset\\MNIST\\t10k-labels-idx1-ubyte.gz\n",
      "Load Data Done\n",
      "train images shape: (55000, 784)\n",
      "train labels shape: (55000, 10)\n",
      "test images shape: (10000, 784)\n",
      "test labels shape: (10000, 10)\n"
     ]
    }
   ],
   "source": [
    "import warnings\n",
    "warnings.filterwarnings(\"ignore\")\n",
    "# 读取数据\n",
    "from tensorflow.examples.tutorials.mnist import input_data\n",
    "mnist = input_data.read_data_sets(\"D:\\\\Document\\\\05_Python\\\\Jupyter\\\\dataset\\\\MNIST\", one_hot=True)\n",
    "train_images = mnist.train.images\n",
    "train_labels = mnist.train.labels\n",
    "test_images  = mnist.test.images\n",
    "test_labels  = mnist.test.labels\n",
    "print(\"Load Data Done\")\n",
    "print(\"train images shape:\",train_images.shape)\n",
    "print(\"train labels shape:\",train_labels.shape)\n",
    "print(\"test images shape:\", test_images.shape)\n",
    "print(\"test labels shape:\", test_labels.shape)"
   ]
  },
  {
   "cell_type": "code",
   "execution_count": 10,
   "metadata": {},
   "outputs": [
    {
     "name": "stdout",
     "output_type": "stream",
     "text": [
      "_________________________________________________________________\n",
      "Layer (type)                 Output Shape              Param #   \n",
      "=================================================================\n",
      "dense_12 (Dense)             (None, 64)                50240     \n",
      "_________________________________________________________________\n",
      "dense_13 (Dense)             (None, 32)                2080      \n",
      "_________________________________________________________________\n",
      "dense_14 (Dense)             (None, 10)                330       \n",
      "=================================================================\n",
      "Total params: 52,650\n",
      "Trainable params: 52,650\n",
      "Non-trainable params: 0\n",
      "_________________________________________________________________\n"
     ]
    }
   ],
   "source": [
    "# 使用keras构建DNN\n",
    "import tensorflow as tf\n",
    "import keras\n",
    "from keras.models import Sequential\n",
    "from keras.layers import Dense, activations\n",
    "# 使用Sequential model\n",
    "dnn_model = Sequential()\n",
    "dnn_model.add(Dense(64, activation=activations.relu, input_dim=784))\n",
    "dnn_model.add(Dense(32, activation=activations.relu))\n",
    "dnn_model.add(Dense(10, activation=activations.softmax))\n",
    "dnn_model.summary()"
   ]
  },
  {
   "cell_type": "code",
   "execution_count": 11,
   "metadata": {},
   "outputs": [
    {
     "name": "stdout",
     "output_type": "stream",
     "text": [
      "Train on 55000 samples, validate on 10000 samples\n",
      "Epoch 1/20\n",
      "55000/55000 [==============================] - 1s 16us/step - loss: 1.7543 - acc: 0.5114 - val_loss: 1.1972 - val_acc: 0.6998\n",
      "Epoch 2/20\n",
      "55000/55000 [==============================] - 1s 13us/step - loss: 0.9171 - acc: 0.7612 - val_loss: 0.6899 - val_acc: 0.8193\n",
      "Epoch 3/20\n",
      "55000/55000 [==============================] - 1s 14us/step - loss: 0.6051 - acc: 0.8415 - val_loss: 0.5082 - val_acc: 0.8605\n",
      "Epoch 4/20\n",
      "55000/55000 [==============================] - 1s 13us/step - loss: 0.4809 - acc: 0.8695 - val_loss: 0.4283 - val_acc: 0.8815\n",
      "Epoch 5/20\n",
      "55000/55000 [==============================] - 1s 12us/step - loss: 0.4197 - acc: 0.8842 - val_loss: 0.3803 - val_acc: 0.8943\n",
      "Epoch 6/20\n",
      "55000/55000 [==============================] - 1s 12us/step - loss: 0.3824 - acc: 0.8930 - val_loss: 0.3511 - val_acc: 0.9009\n",
      "Epoch 7/20\n",
      "55000/55000 [==============================] - 1s 12us/step - loss: 0.3564 - acc: 0.9000 - val_loss: 0.3302 - val_acc: 0.9069\n",
      "Epoch 8/20\n",
      "55000/55000 [==============================] - 1s 12us/step - loss: 0.3370 - acc: 0.9047 - val_loss: 0.3140 - val_acc: 0.9105\n",
      "Epoch 9/20\n",
      "55000/55000 [==============================] - 1s 13us/step - loss: 0.3214 - acc: 0.9090 - val_loss: 0.3015 - val_acc: 0.9141\n",
      "Epoch 10/20\n",
      "55000/55000 [==============================] - 1s 12us/step - loss: 0.3084 - acc: 0.9128 - val_loss: 0.2881 - val_acc: 0.9162\n",
      "Epoch 11/20\n",
      "55000/55000 [==============================] - 1s 12us/step - loss: 0.2973 - acc: 0.9155 - val_loss: 0.2793 - val_acc: 0.9198\n",
      "Epoch 12/20\n",
      "55000/55000 [==============================] - 1s 13us/step - loss: 0.2872 - acc: 0.9181 - val_loss: 0.2710 - val_acc: 0.9219\n",
      "Epoch 13/20\n",
      "55000/55000 [==============================] - 1s 12us/step - loss: 0.2787 - acc: 0.9203 - val_loss: 0.2634 - val_acc: 0.9248\n",
      "Epoch 14/20\n",
      "55000/55000 [==============================] - 1s 12us/step - loss: 0.2705 - acc: 0.9225 - val_loss: 0.2565 - val_acc: 0.9280\n",
      "Epoch 15/20\n",
      "55000/55000 [==============================] - 1s 12us/step - loss: 0.2633 - acc: 0.9245 - val_loss: 0.2515 - val_acc: 0.9283\n",
      "Epoch 16/20\n",
      "55000/55000 [==============================] - 1s 12us/step - loss: 0.2567 - acc: 0.9268 - val_loss: 0.2445 - val_acc: 0.9307\n",
      "Epoch 17/20\n",
      "55000/55000 [==============================] - 1s 14us/step - loss: 0.2503 - acc: 0.9287 - val_loss: 0.2395 - val_acc: 0.9324\n",
      "Epoch 18/20\n",
      "55000/55000 [==============================] - 1s 13us/step - loss: 0.2445 - acc: 0.9297 - val_loss: 0.2340 - val_acc: 0.9336\n",
      "Epoch 19/20\n",
      "55000/55000 [==============================] - 1s 13us/step - loss: 0.2391 - acc: 0.9313 - val_loss: 0.2303 - val_acc: 0.9338\n",
      "Epoch 20/20\n",
      "55000/55000 [==============================] - 1s 13us/step - loss: 0.2341 - acc: 0.9327 - val_loss: 0.2247 - val_acc: 0.9370\n"
     ]
    }
   ],
   "source": [
    "# define the compile and train DNN model\n",
    "dnn_model.compile(optimizer='sgd',\n",
    "              loss='categorical_crossentropy',\n",
    "              metrics=['accuracy'])\n",
    "train_history = dnn_model.fit(x=train_images,\n",
    "                              y=train_labels,\n",
    "                              batch_size=200,\n",
    "                              epochs=20,\n",
    "                              validation_data=(test_images, test_labels))"
   ]
  },
  {
   "cell_type": "code",
   "execution_count": 14,
   "metadata": {},
   "outputs": [
    {
     "data": {
      "image/png": "[encoded data removed]",
      "text/plain": [
       "<Figure size 432x288 with 1 Axes>"
      ]
     },
     "metadata": {
      "needs_background": "light"
     },
     "output_type": "display_data"
    },
    {
     "data": {
      "image/png": "[encoded data removed]",
      "text/plain": [
       "<Figure size 432x288 with 1 Axes>"
      ]
     },
     "metadata": {
      "needs_background": "light"
     },
     "output_type": "display_data"
    }
   ],
   "source": [
    "# training visulization\n",
    "import matplotlib.pyplot as plt\n",
    "\n",
    "train_acc = train_history.history['acc']\n",
    "test_acc  = train_history.history['val_acc']\n",
    "train_loss = train_history.history['loss']\n",
    "test_loss  = train_history.history['val_loss']\n",
    "epochs = range(1, len(train_acc)+1)\n",
    "\n",
    "plt.figure()\n",
    "plt.plot(epochs, train_acc, 'bo', label=\"Training Accuracy\")\n",
    "plt.plot(epochs, test_acc, 'r', label=\"Validation Accuracy\")\n",
    "plt.title('Training and Validation Accuracy')\n",
    "plt.legend()\n",
    "\n",
    "plt.figure()\n",
    "plt.plot(epochs, train_loss, 'bo', label=\"Training Loss\")\n",
    "plt.plot(epochs, test_loss, 'r', label=\"Validation Loss\")\n",
    "plt.title('Training and Validation Loss')\n",
    "plt.legend()\n",
    "\n",
    "plt.show()"
   ]
  }
 ],
 "metadata": {
  "kernelspec": {
   "display_name": "Python 3",
   "language": "python",
   "name": "python3"
  },
  "language_info": {
   "codemirror_mode": {
    "name": "ipython",
    "version": 3
   },
   "file_extension": ".py",
   "mimetype": "text/x-python",
   "name": "python",
   "nbconvert_exporter": "python",
   "pygments_lexer": "ipython3",
   "version": "3.6.7"
  }
 },
 "nbformat": 4,
 "nbformat_minor": 2
}
