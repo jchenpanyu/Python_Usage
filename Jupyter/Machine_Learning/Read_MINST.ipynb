{
 "cells": [
  {
   "cell_type": "markdown",
   "metadata": {},
   "source": [
    "# Python读取MNIST方法demo"
   ]
  },
  {
   "cell_type": "markdown",
   "metadata": {},
   "source": [
    "方法1\n",
    "使用tensorflow自带下载"
   ]
  },
  {
   "cell_type": "code",
   "execution_count": null,
   "metadata": {
    "scrolled": true
   },
   "outputs": [],
   "source": [
    "from tensorflow.examples.tutorials.mnist import input_data\n",
    "mnist = input_data.read_data_sets('/tmp/', one_hot=True) # always fail as timeout error"
   ]
  },
  {
   "cell_type": "markdown",
   "metadata": {},
   "source": [
    "方法2\n",
    "使用tensorflow的input_data function读取下载好的MNIST .gz文件"
   ]
  },
  {
   "cell_type": "code",
   "execution_count": 12,
   "metadata": {},
   "outputs": [
    {
     "name": "stdout",
     "output_type": "stream",
     "text": [
      "Extracting D:\\Document\\05_Python\\Jupyter\\dataset\\MNIST\\train-images-idx3-ubyte.gz\n",
      "Extracting D:\\Document\\05_Python\\Jupyter\\dataset\\MNIST\\train-labels-idx1-ubyte.gz\n",
      "Extracting D:\\Document\\05_Python\\Jupyter\\dataset\\MNIST\\t10k-images-idx3-ubyte.gz\n",
      "Extracting D:\\Document\\05_Python\\Jupyter\\dataset\\MNIST\\t10k-labels-idx1-ubyte.gz\n",
      "(55000, 784)\n",
      "(55000, 10)\n",
      "(10000, 784)\n",
      "(10000, 10)\n"
     ]
    }
   ],
   "source": [
    "from tensorflow.examples.tutorials.mnist import input_data\n",
    "mnist = input_data.read_data_sets(\"D:\\\\Document\\\\05_Python\\\\Jupyter\\\\dataset\\\\MNIST\", one_hot=True)\n",
    "print(mnist.train.images.shape)\n",
    "print(mnist.train.labels.shape)\n",
    "print(mnist.test.images.shape)\n",
    "print(mnist.test.labels.shape)"
   ]
  },
  {
   "cell_type": "markdown",
   "metadata": {},
   "source": [
    "方法3\n",
    "解压后的.gz MINST文件为idx-ubyte是一种用来存储向量与多维度矩阵的文件格式\n",
    "The IDX file format is a simple format for vectors and multidimensional matrices\n",
    "of various numerical types.\n",
    "Refer to:\n",
    "    https://medium.com/@mannasiladittya/converting-mnist-data-in-idx-format-to-python-numpy-array-5cb9126f99f1\n",
    "    https://www.jianshu.com/p/81f8ca1b722f"
   ]
  },
  {
   "cell_type": "code",
   "execution_count": 20,
   "metadata": {},
   "outputs": [
    {
     "name": "stdout",
     "output_type": "stream",
     "text": [
      "(60000, 28, 28)\n"
     ]
    }
   ],
   "source": [
    "# [1]: Importing the required libraries\n",
    "# Struct is used for handling binary data stored in files.\n",
    "# It is used to perform conversions between Python values and \n",
    "# C structs represented as Python strings.\n",
    "import struct as st\n",
    "import numpy as np\n",
    "\n",
    "# [2]: Open the IDX file in readable binary mode.\n",
    "train_file = {'images' : r'D:\\Document\\05_Python\\Jupyter\\dataset\\MNIST\\ubyte_file\\train-images.idx3-ubyte' ,\n",
    "              'labels' : r'D:\\Document\\05_Python\\Jupyter\\dataset\\MNIST\\ubyte_file\\train-labels.idx1-ubyte'}\n",
    "train_imagesfile = open(train_file['images'], 'rb')\n",
    "\n",
    "# [3]: Read the magic number\n",
    "train_imagesfile.seek(0)\n",
    "magic = st.unpack('>4B',train_imagesfile.read(4))\n",
    "# [4]: Read the dimensions of the Image data-set\n",
    "nImg = st.unpack('>I',train_imagesfile.read(4))[0] #num of images\n",
    "nR  = st.unpack('>I',train_imagesfile.read(4))[0] #num of rows\n",
    "nC  = st.unpack('>I',train_imagesfile.read(4))[0] #num of column\n",
    "# [5]: Declare Image NumPy array (Optional, not required in this case)\n",
    "images_array = np.zeros((nImg,nR,nC))\n",
    "# [6]: Reading the Image data\n",
    "nBytesTotal = nImg * nR * nC * 1 # since each pixel data is 1 byte\n",
    "images_array = 255 - np.asarray(st.unpack('>'+'B'*nBytesTotal, train_imagesfile.read(nBytesTotal))).reshape((nImg,nR,nC))\n",
    "\n",
    "print(images_array.shape)"
   ]
  },
  {
   "cell_type": "code",
   "execution_count": 23,
   "metadata": {},
   "outputs": [
    {
     "data": {
      "image/png": "[encoded data removed]",
      "text/plain": [
       "<Figure size 432x288 with 1 Axes>"
      ]
     },
     "metadata": {
      "needs_background": "light"
     },
     "output_type": "display_data"
    }
   ],
   "source": [
    "import matplotlib.pyplot as plt\n",
    "plt.figure()\n",
    "plt.imshow(images_array[0], cmap='gray')\n",
    "plt.show()"
   ]
  },
  {
   "cell_type": "code",
   "execution_count": null,
   "metadata": {},
   "outputs": [],
   "source": []
  }
 ],
 "metadata": {
  "kernelspec": {
   "display_name": "Python 3",
   "language": "python",
   "name": "python3"
  },
  "language_info": {
   "codemirror_mode": {
    "name": "ipython",
    "version": 3
   },
   "file_extension": ".py",
   "mimetype": "text/x-python",
   "name": "python",
   "nbconvert_exporter": "python",
   "pygments_lexer": "ipython3",
   "version": "3.6.7"
  }
 },
 "nbformat": 4,
 "nbformat_minor": 2
}
